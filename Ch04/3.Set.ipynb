{
 "cells": [
  {
   "cell_type": "code",
   "execution_count": null,
   "metadata": {},
   "outputs": [],
   "source": [
    "\"\"\"\n",
    "날짜 : 2023/01/04\n",
    "이름 : 박종협\n",
    "내용 : 파이썬 Set 실습하기\n",
    "\"\"\""
   ]
  },
  {
   "cell_type": "code",
   "execution_count": 1,
   "metadata": {},
   "outputs": [
    {
     "name": "stdout",
     "output_type": "stream",
     "text": [
      "data type : <class 'set'>\n",
      "data : {1, 2, 3, 4, 5}\n"
     ]
    }
   ],
   "source": [
    "# 집합\n",
    "data = {1, 2, 3, 4, 5, 3, 2}\n",
    "print('data type :',type(data))\n",
    "print('data :',data)"
   ]
  },
  {
   "cell_type": "code",
   "execution_count": 2,
   "metadata": {},
   "outputs": [
    {
     "name": "stdout",
     "output_type": "stream",
     "text": [
      "num : 1\n",
      "num : 2\n",
      "num : 3\n",
      "num : 4\n",
      "num : 5\n"
     ]
    }
   ],
   "source": [
    "# 집합 출력\n",
    "data = {1, 2, 3, 4, 5, 3, 2}\n",
    "for num in data:\n",
    "    print('num :',num)"
   ]
  }
 ],
 "metadata": {
  "kernelspec": {
   "display_name": "Python 3",
   "language": "python",
   "name": "python3"
  },
  "language_info": {
   "codemirror_mode": {
    "name": "ipython",
    "version": 3
   },
   "file_extension": ".py",
   "mimetype": "text/x-python",
   "name": "python",
   "nbconvert_exporter": "python",
   "pygments_lexer": "ipython3",
   "version": "3.11.1"
  },
  "orig_nbformat": 4,
  "vscode": {
   "interpreter": {
    "hash": "5868237a719c5308d34c8911a17794e6baa898a055f8bd5fbd9df195d03bb563"
   }
  }
 },
 "nbformat": 4,
 "nbformat_minor": 2
}
