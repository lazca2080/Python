{
 "cells": [
  {
   "cell_type": "code",
   "execution_count": null,
   "metadata": {},
   "outputs": [],
   "source": [
    "\"\"\"\n",
    "날짜 : 2023/01/04\n",
    "이름 : 박종협\n",
    "내용 : 파이썬 Dictionary 실습하기\n",
    "\"\"\""
   ]
  },
  {
   "cell_type": "code",
   "execution_count": 3,
   "metadata": {},
   "outputs": [
    {
     "name": "stdout",
     "output_type": "stream",
     "text": [
      "data type : <class 'dict'>\n",
      "data : {'A': 'Apple', 'B': 'Banana', 'C': 'Cherry'}\n",
      "data['A'] : Apple\n",
      "data['B'] : Banana\n",
      "data['C'] : Cherry\n"
     ]
    }
   ],
   "source": [
    "# Dictionary\n",
    "data = {'A':'Apple', 'B':'Banana', 'C':'Cherry'}\n",
    "print('data type :',type(data))\n",
    "print('data :',data)\n",
    "print(\"data['A'] :\",data['A'])\n",
    "print(\"data['B'] :\",data['B'])\n",
    "print(\"data['C'] :\",data['C'])"
   ]
  },
  {
   "cell_type": "code",
   "execution_count": 11,
   "metadata": {},
   "outputs": [
    {
     "name": "stdout",
     "output_type": "stream",
     "text": [
      "101 : 5\n",
      "102 : 7\n",
      "103 : {'대전', '광주', '대구', '부산', '서울'}\n",
      "104 : 김춘추\n"
     ]
    }
   ],
   "source": [
    "# Dictionary 활용\n",
    "data = {\n",
    "    101 : [1, 2, 3, 4, 5],\n",
    "    102 : (6, 7, 8, 9, 10),\n",
    "    103 : {'서울', '대전', '대구', '부산', '광주'},\n",
    "    104 : {'p1': '김유신', 'p2': '김춘추', 'p3': '장보고'}\n",
    "}\n",
    "\n",
    "print('101 :',data[101][4])\n",
    "print('102 :',data[102][1])\n",
    "print('103 :',data[103])\n",
    "print('104 :',data[104]['p2'])"
   ]
  },
  {
   "cell_type": "code",
   "execution_count": 12,
   "metadata": {},
   "outputs": [
    {
     "name": "stdout",
     "output_type": "stream",
     "text": [
      "1 서울\n",
      "2 대전\n",
      "3 대구\n",
      "4 부산\n",
      "5 광주\n"
     ]
    }
   ],
   "source": [
    "# Dictionary 반복문\n",
    "data = {1:'서울', 2:'대전', 3:'대구', 4:'부산', 5:'광주'}\n",
    "\n",
    "for k, v in data.items():\n",
    "    print(k, v)"
   ]
  }
 ],
 "metadata": {
  "kernelspec": {
   "display_name": "Python 3",
   "language": "python",
   "name": "python3"
  },
  "language_info": {
   "codemirror_mode": {
    "name": "ipython",
    "version": 3
   },
   "file_extension": ".py",
   "mimetype": "text/x-python",
   "name": "python",
   "nbconvert_exporter": "python",
   "pygments_lexer": "ipython3",
   "version": "3.11.1"
  },
  "orig_nbformat": 4,
  "vscode": {
   "interpreter": {
    "hash": "5868237a719c5308d34c8911a17794e6baa898a055f8bd5fbd9df195d03bb563"
   }
  }
 },
 "nbformat": 4,
 "nbformat_minor": 2
}
