{
 "cells": [
  {
   "cell_type": "code",
   "execution_count": null,
   "metadata": {},
   "outputs": [],
   "source": [
    "\"\"\"\n",
    "날짜 : 2023/01/06\n",
    "이름 : 박종협\n",
    "내용 : 파이썬 함수 실습하기\n",
    "\"\"\""
   ]
  },
  {
   "cell_type": "code",
   "execution_count": null,
   "metadata": {},
   "outputs": [],
   "source": [
    "# 함수\n",
    "def f(x):\n",
    "    y = 2 * x + 3\n",
    "    return y\n",
    "\n",
    "y1 = f(1)\n",
    "y2 = f(2)\n",
    "y3 = f(3)\n",
    "\n",
    "print('y1 :',y1)\n",
    "print('y2 :',y2)\n",
    "print('y3 :',y3)"
   ]
  },
  {
   "cell_type": "code",
   "execution_count": null,
   "metadata": {},
   "outputs": [],
   "source": [
    "# 함수유형\n",
    "def type1(x, y):\n",
    "    z = x + y\n",
    "    return z\n",
    "\n",
    "def type2(dataset):\n",
    "    tot = 0\n",
    "    for data in dataset :\n",
    "        tot += data\n",
    "    \n",
    "    print('dataset 합 :',tot)\n",
    "\n",
    "def type3():\n",
    "    dataset = [n for n in range(11)]\n",
    "    tot = 0\n",
    "    for k in dataset:\n",
    "        tot += k\n",
    "    return tot\n",
    "\n",
    "rs1 = type1(1, 2)\n",
    "type2([1,2,3,4,5])\n",
    "type2((2, 4, 6, 8, 10))\n",
    "rs2 = type3()\n",
    "\n",
    "print('rs1 :',rs1)\n",
    "print('rs2 :',rs2)"
   ]
  },
  {
   "cell_type": "code",
   "execution_count": null,
   "metadata": {},
   "outputs": [],
   "source": [
    "# 디폴트 매개변수\n",
    "def hello(name='홍길동', age=20):\n",
    "    print('이름 :',name)\n",
    "    print('나이 :',age)\n",
    "\n",
    "hello()\n",
    "hello('김유신')\n",
    "hello('김유신', 25)"
   ]
  },
  {
   "cell_type": "code",
   "execution_count": 20,
   "metadata": {},
   "outputs": [
    {
     "name": "stdout",
     "output_type": "stream",
     "text": [
      "rs1 : 1\n",
      "rs2 : 3\n",
      "rs3 : 6\n",
      "rs4 : 10\n",
      "rs5 : 15\n"
     ]
    }
   ],
   "source": [
    "# 가변 매개변수\n",
    "def total(*items):\n",
    "    tot = 0\n",
    "    for i in items:\n",
    "        tot += i\n",
    "    return tot\n",
    "\n",
    "rs1 = total(1)\n",
    "rs2 = total(1,2)\n",
    "rs3 = total(1,2,3)\n",
    "rs4 = total(1,2,3,4)\n",
    "rs5 = total(1,2,3,4,5)\n",
    "\n",
    "print('rs1 :',rs1)\n",
    "print('rs2 :',rs2)\n",
    "print('rs3 :',rs3)\n",
    "print('rs4 :',rs4)\n",
    "print('rs5 :',rs5)\n"
   ]
  },
  {
   "cell_type": "code",
   "execution_count": 21,
   "metadata": {},
   "outputs": [
    {
     "name": "stdout",
     "output_type": "stream",
     "text": [
      "r1 : 5\n",
      "r2 : 6\n"
     ]
    }
   ],
   "source": [
    "# 하나 이상의 값을 리턴\n",
    "def sumMulti(n1, n2):\n",
    "    y1 = n1 + n2\n",
    "    y2 = n1 * n2\n",
    "\n",
    "    return y1, y2\n",
    "\n",
    "r1, r2 = sumMulti(2, 3)\n",
    "\n",
    "print('r1 :',r1)\n",
    "print('r2 :',r2)"
   ]
  },
  {
   "cell_type": "code",
   "execution_count": 23,
   "metadata": {},
   "outputs": [
    {
     "name": "stdout",
     "output_type": "stream",
     "text": [
      "r1 : 3\n",
      "r2 : -1\n"
     ]
    }
   ],
   "source": [
    "# 변수에 저장하는 함수\n",
    "def plus(x, y):\n",
    "    return x+y\n",
    "\n",
    "def minus(x, y):\n",
    "    return x-y\n",
    "\n",
    "var1 = plus\n",
    "var2 = minus\n",
    "\n",
    "r1 = var1(1, 2)\n",
    "r2 = var2(2, 3)\n",
    "\n",
    "print('r1 :',r1)\n",
    "print('r2 :',r2)"
   ]
  },
  {
   "cell_type": "code",
   "execution_count": 25,
   "metadata": {},
   "outputs": [
    {
     "name": "stdout",
     "output_type": "stream",
     "text": [
      "r1 : 3\n",
      "r2 : -1\n"
     ]
    }
   ],
   "source": [
    "# 함수 리스트\n",
    "def plus(x, y):\n",
    "    return x+y\n",
    "\n",
    "def minus(x, y):\n",
    "    return x-y\n",
    "\n",
    "defs = [plus, minus]\n",
    "\n",
    "r1 = defs[0](1, 2)\n",
    "r2 = defs[1](2, 3)\n",
    "\n",
    "print('r1 :',r1)\n",
    "print('r2 :',r2)"
   ]
  },
  {
   "cell_type": "code",
   "execution_count": 26,
   "metadata": {},
   "outputs": [
    {
     "name": "stdout",
     "output_type": "stream",
     "text": [
      "r1 : 3\n",
      "r2 : -1\n"
     ]
    }
   ],
   "source": [
    "# 람다함수\n",
    "f1 = lambda x, y : x+y\n",
    "f2 = lambda x, y : x-y\n",
    "\n",
    "r1 = f1(1, 2)\n",
    "r2 = f2(2, 3)\n",
    "\n",
    "print('r1 :',r1)\n",
    "print('r2 :',r2)"
   ]
  }
 ],
 "metadata": {
  "kernelspec": {
   "display_name": "Python 3",
   "language": "python",
   "name": "python3"
  },
  "language_info": {
   "codemirror_mode": {
    "name": "ipython",
    "version": 3
   },
   "file_extension": ".py",
   "mimetype": "text/x-python",
   "name": "python",
   "nbconvert_exporter": "python",
   "pygments_lexer": "ipython3",
   "version": "3.11.1 (tags/v3.11.1:a7a450f, Dec  6 2022, 19:58:39) [MSC v.1934 64 bit (AMD64)]"
  },
  "orig_nbformat": 4,
  "vscode": {
   "interpreter": {
    "hash": "5868237a719c5308d34c8911a17794e6baa898a055f8bd5fbd9df195d03bb563"
   }
  }
 },
 "nbformat": 4,
 "nbformat_minor": 2
}
