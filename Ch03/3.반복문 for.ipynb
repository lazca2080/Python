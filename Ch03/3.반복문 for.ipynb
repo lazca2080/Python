{
 "cells": [
  {
   "cell_type": "code",
   "execution_count": null,
   "metadata": {},
   "outputs": [],
   "source": [
    "\"\"\"\n",
    "날짜 : 2023/01/03\n",
    "이름 : 박종협\n",
    "내용 : 파이썬 반복문 for 실습하기\n",
    "\"\"\""
   ]
  },
  {
   "cell_type": "code",
   "execution_count": null,
   "metadata": {},
   "outputs": [],
   "source": [
    "# for\n",
    "for i in range(5):\n",
    "    print('i :',i)\n",
    "\n",
    "for j in range(10, 20):\n",
    "    print('j :',j)\n",
    "\n",
    "for k in range(10, 0, -1):\n",
    "    print('k :',k)"
   ]
  },
  {
   "cell_type": "code",
   "execution_count": 6,
   "metadata": {},
   "outputs": [
    {
     "name": "stdout",
     "output_type": "stream",
     "text": [
      "1부터 10까지 합 : 55\n"
     ]
    }
   ],
   "source": [
    "# 1부터 10까지 합\n",
    "total = 0\n",
    "\n",
    "for k in range(11):\n",
    "    total += k\n",
    "\n",
    "print('1부터 10까지 합 :',total)"
   ]
  },
  {
   "cell_type": "code",
   "execution_count": 7,
   "metadata": {},
   "outputs": [
    {
     "name": "stdout",
     "output_type": "stream",
     "text": [
      "1부터 10까지 짝수 합 : 30\n"
     ]
    }
   ],
   "source": [
    "# 1부터 10까지 짝수 합\n",
    "total = 0\n",
    "\n",
    "for k in range(11):\n",
    "    if k%2 ==0 :\n",
    "        total += k\n",
    "\n",
    "print('1부터 10까지 짝수 합 :',total)"
   ]
  },
  {
   "cell_type": "code",
   "execution_count": 12,
   "metadata": {},
   "outputs": [
    {
     "name": "stdout",
     "output_type": "stream",
     "text": [
      "a : 0\n",
      "b : 0\n",
      "c : 0\n",
      "c : 1\n",
      "c : 2\n",
      "c : 3\n",
      "b : 1\n",
      "c : 0\n",
      "c : 1\n",
      "c : 2\n",
      "c : 3\n",
      "b : 2\n",
      "c : 0\n",
      "c : 1\n",
      "c : 2\n",
      "c : 3\n",
      "a : 1\n",
      "b : 0\n",
      "c : 0\n",
      "c : 1\n",
      "c : 2\n",
      "c : 3\n",
      "b : 1\n",
      "c : 0\n",
      "c : 1\n",
      "c : 2\n",
      "c : 3\n",
      "b : 2\n",
      "c : 0\n",
      "c : 1\n",
      "c : 2\n",
      "c : 3\n"
     ]
    }
   ],
   "source": [
    "# 중첩 for\n",
    "for a in range(2):\n",
    "    print('a :',a)\n",
    "    for b in range(3):\n",
    "        print('b :',b)\n",
    "        for c in range(4):\n",
    "            print('c :',c)\n",
    "\n"
   ]
  },
  {
   "cell_type": "code",
   "execution_count": null,
   "metadata": {},
   "outputs": [],
   "source": [
    "# 구구단 출력\n",
    "\n",
    "for a in range(2, 10):\n",
    "    print(a, '단')\n",
    "    for b in range(1, 10):\n",
    "        print(f'{a} X {b} =', a*b)"
   ]
  },
  {
   "cell_type": "code",
   "execution_count": 25,
   "metadata": {},
   "outputs": [
    {
     "name": "stdout",
     "output_type": "stream",
     "text": [
      "★\n",
      "★★\n",
      "★★★\n",
      "★★★★\n",
      "★★★★★\n",
      "★★★★★★\n",
      "★★★★★★★\n",
      "★★★★★★★★\n",
      "★★★★★★★★★\n",
      "★★★★★★★★★★\n"
     ]
    }
   ],
   "source": [
    "# 별 삼각형\n",
    "\n",
    "for a in range(1, 11, 1):\n",
    "    print('★'*a)"
   ]
  },
  {
   "cell_type": "code",
   "execution_count": null,
   "metadata": {},
   "outputs": [],
   "source": []
  },
  {
   "cell_type": "code",
   "execution_count": null,
   "metadata": {},
   "outputs": [],
   "source": []
  },
  {
   "cell_type": "code",
   "execution_count": null,
   "metadata": {},
   "outputs": [],
   "source": []
  },
  {
   "cell_type": "code",
   "execution_count": null,
   "metadata": {},
   "outputs": [],
   "source": []
  }
 ],
 "metadata": {
  "kernelspec": {
   "display_name": "Python 3",
   "language": "python",
   "name": "python3"
  },
  "language_info": {
   "codemirror_mode": {
    "name": "ipython",
    "version": 3
   },
   "file_extension": ".py",
   "mimetype": "text/x-python",
   "name": "python",
   "nbconvert_exporter": "python",
   "pygments_lexer": "ipython3",
   "version": "3.11.1 (tags/v3.11.1:a7a450f, Dec  6 2022, 19:58:39) [MSC v.1934 64 bit (AMD64)]"
  },
  "orig_nbformat": 4,
  "vscode": {
   "interpreter": {
    "hash": "5868237a719c5308d34c8911a17794e6baa898a055f8bd5fbd9df195d03bb563"
   }
  }
 },
 "nbformat": 4,
 "nbformat_minor": 2
}
