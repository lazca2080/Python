{
 "cells": [
  {
   "cell_type": "code",
   "execution_count": null,
   "metadata": {},
   "outputs": [],
   "source": [
    "\"\"\"\n",
    "날짜 : 2023/01/13\n",
    "이름 : 박종협\n",
    "내용 : 파이썬 데이터베이스 실습하기\n",
    "\"\"\"\n",
    "\n",
    "import pymysql"
   ]
  },
  {
   "cell_type": "code",
   "execution_count": null,
   "metadata": {},
   "outputs": [],
   "source": [
    "# Insert 실습\n",
    "# 데이터베이스 접속\n",
    "conn = pymysql.connect(host='127.0.0.1', user='root', password='1234', db='java2db', charset='utf8')\n",
    "\n",
    "# SQL 실행객체\n",
    "cur = conn.cursor()\n",
    "\n",
    "# SQL 실행\n",
    "sql = \"INSERT INTO `user3` VALUES('a101', '홍길동', '010-4521-1234', 12)\"\n",
    "cur.execute(sql)\n",
    "conn.commit()\n",
    "\n",
    "# 데이터베이스 종료\n",
    "conn.close()\n",
    "print('Insert 완료...')"
   ]
  },
  {
   "cell_type": "code",
   "execution_count": null,
   "metadata": {},
   "outputs": [],
   "source": [
    "# UPDATE 실습\n",
    "# 데이터베이스 접속\n",
    "conn = pymysql.connect(host='127.0.0.1', user='root', password='1234', db='java2db', charset='utf8')\n",
    "\n",
    "# SQL 실행객체\n",
    "cur = conn.cursor()\n",
    "\n",
    "# SQL 실행\n",
    "sql  = \"UPDATE `user3` SET \"\n",
    "sql += \"`name`='김춘추', \"\n",
    "sql += \"`hp`='010-5751-5124', \"\n",
    "sql += \"`age`=35 \"\n",
    "sql += \"WHERE `uid`='a101'\"\n",
    "cur.execute(sql)\n",
    "conn.commit()\n",
    "\n",
    "# 데이터베이스 종료\n",
    "conn.close()\n",
    "print('Update 완료...')"
   ]
  },
  {
   "cell_type": "code",
   "execution_count": null,
   "metadata": {},
   "outputs": [],
   "source": [
    "# DELETE 실습\n",
    "# 데이터베이스 접속\n",
    "conn = pymysql.connect(host='127.0.0.1', user='root', password='1234', db='java2db', charset='utf8')\n",
    "\n",
    "# SQL 실행객체\n",
    "cur = conn.cursor()\n",
    "\n",
    "# SQL 실행\n",
    "sql  = \"DELETE FROM `user3` WHERE `uid`='a101' \"\n",
    "cur.execute(sql)\n",
    "conn.commit()\n",
    "\n",
    "# 데이터베이스 종료\n",
    "conn.close()\n",
    "print('Delete 완료...')"
   ]
  },
  {
   "cell_type": "code",
   "execution_count": null,
   "metadata": {},
   "outputs": [],
   "source": [
    "# SELECT 실습\n",
    "from sub.User3VO import User3VO\n",
    "# 데이터베이스 접속\n",
    "conn = pymysql.connect(host='127.0.0.1', user='root', password='1234', db='java2db', charset='utf8')\n",
    "\n",
    "# SQL 실행객체\n",
    "cur = conn.cursor()\n",
    "\n",
    "# SQL 실행\n",
    "sql  = \"SELECT * FROM `user3`\"\n",
    "cur.execute(sql)\n",
    "conn.commit()\n",
    "\n",
    "# 결과 출력\n",
    "users = []\n",
    "\n",
    "for list in cur.fetchall():\n",
    "\n",
    "    user = User3VO(list[0], list[1],list[2],list[3])\n",
    "\n",
    "    users.append(user)\n",
    "    \"\"\"\n",
    "    print('.................')\n",
    "    print('아이디 :', list[0])\n",
    "    print('이름 :', list[1])\n",
    "    print('휴대폰 :', list[2])\n",
    "    print('나이 :', list[3])\n",
    "    \"\"\"\n",
    "\n",
    "# 데이터베이스 종료\n",
    "conn.close()\n",
    "print('Select 완료...')\n",
    "\n",
    "for user in users:\n",
    "    print('.................')\n",
    "    print('아이디 : ',user.uid)\n",
    "    print('이름 : ',user.name)\n",
    "    print('휴대폰 : ',user.hp)\n",
    "    print('나이 : ',user.age)"
   ]
  }
 ],
 "metadata": {
  "kernelspec": {
   "display_name": "Python 3",
   "language": "python",
   "name": "python3"
  },
  "language_info": {
   "codemirror_mode": {
    "name": "ipython",
    "version": 3
   },
   "file_extension": ".py",
   "mimetype": "text/x-python",
   "name": "python",
   "nbconvert_exporter": "python",
   "pygments_lexer": "ipython3",
   "version": "3.11.1 (tags/v3.11.1:a7a450f, Dec  6 2022, 19:58:39) [MSC v.1934 64 bit (AMD64)]"
  },
  "orig_nbformat": 4,
  "vscode": {
   "interpreter": {
    "hash": "5868237a719c5308d34c8911a17794e6baa898a055f8bd5fbd9df195d03bb563"
   }
  }
 },
 "nbformat": 4,
 "nbformat_minor": 2
}
