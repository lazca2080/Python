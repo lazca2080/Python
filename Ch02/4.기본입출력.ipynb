{
 "cells": [
  {
   "cell_type": "code",
   "execution_count": 1,
   "metadata": {},
   "outputs": [
    {
     "data": {
      "text/plain": [
       "'\\n날짜 : 2023-01-02\\n이름 : 박종협\\n내용 : 파이썬 기본입출력 실습하기\\n'"
      ]
     },
     "execution_count": 1,
     "metadata": {},
     "output_type": "execute_result"
    }
   ],
   "source": [
    "\"\"\"\n",
    "날짜 : 2023-01-02\n",
    "이름 : 박종협\n",
    "내용 : 파이썬 기본입출력 실습하기\n",
    "\"\"\""
   ]
  },
  {
   "cell_type": "code",
   "execution_count": 6,
   "metadata": {},
   "outputs": [
    {
     "name": "stdout",
     "output_type": "stream",
     "text": [
      "num :  \n",
      "num type :  <class 'str'>\n"
     ]
    }
   ],
   "source": [
    "# 파이썬 기본 입출력\n",
    "num = input('숫자 입력 : ')\n",
    "print('num : ', num)\n",
    "print('num type : ', type(num))"
   ]
  },
  {
   "cell_type": "code",
   "execution_count": 9,
   "metadata": {},
   "outputs": [
    {
     "name": "stdout",
     "output_type": "stream",
     "text": [
      "3\n"
     ]
    }
   ],
   "source": [
    "# 문자열 변환\n",
    "num1 = '1'\n",
    "num2 = '2'\n",
    "\n",
    "num1 = int(num1)\n",
    "num2 = int(num2)\n",
    "\n",
    "print(num1 + num2)"
   ]
  },
  {
   "cell_type": "code",
   "execution_count": 15,
   "metadata": {},
   "outputs": [
    {
     "name": "stdout",
     "output_type": "stream",
     "text": [
      "010-1234-5678\n",
      "Hello, World Python\n"
     ]
    }
   ],
   "source": [
    "# 기본 출력 옵션\n",
    "print('010', '1234', '5678', sep='-')\n",
    "print('Hello', end=', ')\n",
    "print('World', end=' ')\n",
    "print('Python')"
   ]
  },
  {
   "cell_type": "code",
   "execution_count": 17,
   "metadata": {},
   "outputs": [
    {
     "ename": "TypeError",
     "evalue": "%d format: a real number is required, not str",
     "output_type": "error",
     "traceback": [
      "\u001b[1;31m---------------------------------------------------------------------------\u001b[0m",
      "\u001b[1;31mTypeError\u001b[0m                                 Traceback (most recent call last)",
      "Cell \u001b[1;32mIn[17], line 2\u001b[0m\n\u001b[0;32m      1\u001b[0m \u001b[39m# 서식문자\u001b[39;00m\n\u001b[1;32m----> 2\u001b[0m \u001b[39mprint\u001b[39m(\u001b[39m'\u001b[39;49m\u001b[39m%d\u001b[39;49;00m\u001b[39m년 \u001b[39;49m\u001b[39m%d\u001b[39;49;00m\u001b[39m월 \u001b[39;49m\u001b[39m%d\u001b[39;49;00m\u001b[39m일 \u001b[39;49m\u001b[39m%d\u001b[39;49;00m\u001b[39m요일\u001b[39;49m\u001b[39m'\u001b[39;49m \u001b[39m%\u001b[39;49m (\u001b[39m2023\u001b[39;49m, \u001b[39m1\u001b[39;49m, \u001b[39m2\u001b[39;49m, \u001b[39m'\u001b[39;49m\u001b[39m월\u001b[39;49m\u001b[39m'\u001b[39;49m))\n",
      "\u001b[1;31mTypeError\u001b[0m: %d format: a real number is required, not str"
     ]
    }
   ],
   "source": [
    "# 서식문자\n",
    "print('%d년 %d월 %d일 %d요일' % (2023, 1, 2, '월'))"
   ]
  }
 ],
 "metadata": {
  "kernelspec": {
   "display_name": "Python 3",
   "language": "python",
   "name": "python3"
  },
  "language_info": {
   "codemirror_mode": {
    "name": "ipython",
    "version": 3
   },
   "file_extension": ".py",
   "mimetype": "text/x-python",
   "name": "python",
   "nbconvert_exporter": "python",
   "pygments_lexer": "ipython3",
   "version": "3.11.1"
  },
  "orig_nbformat": 4,
  "vscode": {
   "interpreter": {
    "hash": "5868237a719c5308d34c8911a17794e6baa898a055f8bd5fbd9df195d03bb563"
   }
  }
 },
 "nbformat": 4,
 "nbformat_minor": 2
}
